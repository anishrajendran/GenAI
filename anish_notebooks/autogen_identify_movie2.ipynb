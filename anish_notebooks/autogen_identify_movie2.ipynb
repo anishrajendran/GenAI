{
 "cells": [
  {
   "cell_type": "code",
   "execution_count": 2,
   "metadata": {},
   "outputs": [],
   "source": [
    "from pymongo import MongoClient\n",
    "from sentence_transformers import SentenceTransformer\n",
    "from autogen import AssistantAgent\n",
    "from autogen.agentchat import groupchat\n",
    "import os"
   ]
  },
  {
   "cell_type": "code",
   "execution_count": 3,
   "metadata": {},
   "outputs": [],
   "source": [
    "# MongoDB connection details\n",
    "MONGO_URI = os.environ[\"MONGODB_URI\"]  # Replace with your MongoDB URI\n",
    "DB_NAME = \"vector_mflix\"\n",
    "COLLECTION_NAME = \"movies_with_vectors\""
   ]
  },
  {
   "cell_type": "code",
   "execution_count": 4,
   "metadata": {},
   "outputs": [],
   "source": [
    "# Initialize MongoDB client\n",
    "client = MongoClient(MONGO_URI)\n",
    "db = client[DB_NAME]\n",
    "collection = db[COLLECTION_NAME]"
   ]
  },
  {
   "cell_type": "code",
   "execution_count": 5,
   "metadata": {},
   "outputs": [],
   "source": [
    "# Load pre-trained embedding model\n",
    "embedding_model = SentenceTransformer(\"all-MiniLM-L6-v2\")"
   ]
  },
  {
   "cell_type": "code",
   "execution_count": 6,
   "metadata": {},
   "outputs": [],
   "source": [
    "def embed_plot(plot_text):\n",
    "    \"\"\"Generate vector embedding for the input plot.\"\"\"\n",
    "    return embedding_model.encode(plot_text).tolist()"
   ]
  },
  {
   "cell_type": "code",
   "execution_count": 7,
   "metadata": {},
   "outputs": [],
   "source": [
    "def find_closest_movies(plot_embedding, top_k=5):\n",
    "    \"\"\"Find the top-k closest movies.\"\"\"\n",
    "    pipeline = [\n",
    "        {\n",
    "            \"$addFields\": {\n",
    "                \"embedding_distance\": {\n",
    "                    \"$let\": {\n",
    "                        \"vars\": {\"plot_emb\": \"$plot_embedding\"},\n",
    "                        \"in\": {\n",
    "                            \"$sqrt\": {\n",
    "                                \"$sum\": [\n",
    "                                    {\"$pow\": [{\"$subtract\": [e, {\"$arrayElemAt\": [\"$$plot_emb\", i]}]}, 2]}\n",
    "                                    for i, e in enumerate(plot_embedding)\n",
    "                                ]\n",
    "                            }\n",
    "                        },\n",
    "                    }\n",
    "                }\n",
    "            }\n",
    "        },\n",
    "        {\"$sort\": {\"embedding_distance\": 1}},\n",
    "        {\"$limit\": top_k}\n",
    "    ]\n",
    "    return list(collection.aggregate(pipeline))"
   ]
  },
  {
   "cell_type": "code",
   "execution_count": 8,
   "metadata": {},
   "outputs": [],
   "source": [
    "# Define agents\n",
    "class MovieFinderAgent(AssistantAgent):\n",
    "    def __init__(self):\n",
    "        super().__init__(name=\"Movie Finder\", description=\"Finds movies based on plot descriptions.\")\n",
    "    \n",
    "    def respond(self, input_text):\n",
    "        \"\"\"Find potential matches for the input plot.\"\"\"\n",
    "        plot_embedding = embed_plot(input_text)\n",
    "        results = find_closest_movies(plot_embedding, top_k=5)\n",
    "        if not results:\n",
    "            return \"No movies found.\"\n",
    "        return results"
   ]
  },
  {
   "cell_type": "code",
   "execution_count": 9,
   "metadata": {},
   "outputs": [],
   "source": [
    "class MovieValidatorAgent(AssistantAgent):\n",
    "    def __init__(self):\n",
    "        super().__init__(name=\"Movie Validator\", description=\"Validates the identified movie with the user.\")\n",
    "\n",
    "    def respond(self, candidate_movie):\n",
    "        \"\"\"Present the candidate movie to the user for validation.\"\"\"\n",
    "        response = f\"Is this the movie you're looking for?\\nTitle: {candidate_movie['title']} ({candidate_movie['year']})\\nGenres: {', '.join(candidate_movie['genres'])}\\nPlot: {candidate_movie['plot']}\\n\"\n",
    "        return response"
   ]
  },
  {
   "cell_type": "code",
   "execution_count": 11,
   "metadata": {},
   "outputs": [],
   "source": [
    "# Chat Orchestration\n",
    "def movie_chat():\n",
    "    print(\"Welcome to the Movie Finder Chat!\")\n",
    "    user_input = input(\"Describe the movie plot: \")\n",
    "\n",
    "    # Create agents\n",
    "    finder_agent = MovieFinderAgent()\n",
    "    validator_agent = MovieValidatorAgent()\n",
    "\n",
    "    # Initialize group chat\n",
    "    chat = groupchat([finder_agent, validator_agent], name=\"Movie Finder Group Chat\")\n",
    "\n",
    "    # Finder agent finds matches\n",
    "    matches = finder_agent.respond(user_input)\n",
    "    if isinstance(matches, str):  # No movies found\n",
    "        print(matches)\n",
    "        return\n",
    "\n",
    "    # Validate each movie\n",
    "    for candidate in matches:\n",
    "        validator_response = validator_agent.respond(candidate)\n",
    "        print(validator_response)\n",
    "        \n",
    "        user_feedback = input(\"Is this the correct movie? (yes/no): \").strip().lower()\n",
    "        if user_feedback == \"yes\":\n",
    "            print(f\"Great! Movie identified: {candidate['title']} ({candidate['year']})\")\n",
    "            return\n",
    "\n",
    "    print(\"Sorry, we couldn't identify the movie. Please try again with more details.\")"
   ]
  },
  {
   "cell_type": "code",
   "execution_count": 12,
   "metadata": {},
   "outputs": [
    {
     "name": "stdout",
     "output_type": "stream",
     "text": [
      "Welcome to the Movie Finder Chat!\n"
     ]
    },
    {
     "ename": "TypeError",
     "evalue": "'module' object is not callable",
     "output_type": "error",
     "traceback": [
      "\u001b[0;31m---------------------------------------------------------------------------\u001b[0m",
      "\u001b[0;31mTypeError\u001b[0m                                 Traceback (most recent call last)",
      "Cell \u001b[0;32mIn[12], line 3\u001b[0m\n\u001b[1;32m      1\u001b[0m \u001b[38;5;66;03m# Run the chat\u001b[39;00m\n\u001b[1;32m      2\u001b[0m \u001b[38;5;28;01mif\u001b[39;00m \u001b[38;5;18m__name__\u001b[39m \u001b[38;5;241m==\u001b[39m \u001b[38;5;124m\"\u001b[39m\u001b[38;5;124m__main__\u001b[39m\u001b[38;5;124m\"\u001b[39m:\n\u001b[0;32m----> 3\u001b[0m     \u001b[43mmovie_chat\u001b[49m\u001b[43m(\u001b[49m\u001b[43m)\u001b[49m\n",
      "Cell \u001b[0;32mIn[11], line 11\u001b[0m, in \u001b[0;36mmovie_chat\u001b[0;34m()\u001b[0m\n\u001b[1;32m      8\u001b[0m validator_agent \u001b[38;5;241m=\u001b[39m MovieValidatorAgent()\n\u001b[1;32m     10\u001b[0m \u001b[38;5;66;03m# Initialize group chat\u001b[39;00m\n\u001b[0;32m---> 11\u001b[0m chat \u001b[38;5;241m=\u001b[39m \u001b[43mgroupchat\u001b[49m\u001b[43m(\u001b[49m\u001b[43m[\u001b[49m\u001b[43mfinder_agent\u001b[49m\u001b[43m,\u001b[49m\u001b[43m \u001b[49m\u001b[43mvalidator_agent\u001b[49m\u001b[43m]\u001b[49m\u001b[43m,\u001b[49m\u001b[43m \u001b[49m\u001b[43mname\u001b[49m\u001b[38;5;241;43m=\u001b[39;49m\u001b[38;5;124;43m\"\u001b[39;49m\u001b[38;5;124;43mMovie Finder Group Chat\u001b[39;49m\u001b[38;5;124;43m\"\u001b[39;49m\u001b[43m)\u001b[49m\n\u001b[1;32m     13\u001b[0m \u001b[38;5;66;03m# Finder agent finds matches\u001b[39;00m\n\u001b[1;32m     14\u001b[0m matches \u001b[38;5;241m=\u001b[39m finder_agent\u001b[38;5;241m.\u001b[39mrespond(user_input)\n",
      "\u001b[0;31mTypeError\u001b[0m: 'module' object is not callable"
     ]
    }
   ],
   "source": [
    "# Run the chat\n",
    "if __name__ == \"__main__\":\n",
    "    movie_chat()\n"
   ]
  },
  {
   "cell_type": "code",
   "execution_count": null,
   "metadata": {},
   "outputs": [],
   "source": []
  }
 ],
 "metadata": {
  "kernelspec": {
   "display_name": "venv",
   "language": "python",
   "name": "python3"
  },
  "language_info": {
   "codemirror_mode": {
    "name": "ipython",
    "version": 3
   },
   "file_extension": ".py",
   "mimetype": "text/x-python",
   "name": "python",
   "nbconvert_exporter": "python",
   "pygments_lexer": "ipython3",
   "version": "3.11.10"
  }
 },
 "nbformat": 4,
 "nbformat_minor": 2
}
