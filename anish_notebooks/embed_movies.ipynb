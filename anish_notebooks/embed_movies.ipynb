{
 "cells": [
  {
   "cell_type": "code",
   "execution_count": 1,
   "metadata": {},
   "outputs": [],
   "source": [
    "from pymongo import MongoClient\n",
    "from sentence_transformers import SentenceTransformer\n",
    "import os"
   ]
  },
  {
   "cell_type": "code",
   "execution_count": 2,
   "metadata": {},
   "outputs": [],
   "source": [
    "# MongoDB connection details\n",
    "MONGO_URI = os.environ[\"MONGODB_URI\"]  # Replace with your MongoDB URI\n",
    "SOURCE_DB = \"sample_mflix\"\n",
    "SOURCE_COLLECTION = \"movies\"\n",
    "TARGET_DB = \"vector_mflix1\"\n",
    "TARGET_COLLECTION = \"movies_with_vectors\""
   ]
  },
  {
   "cell_type": "code",
   "execution_count": 3,
   "metadata": {},
   "outputs": [],
   "source": [
    "# Initialize MongoDB client\n",
    "client = MongoClient(MONGO_URI)\n",
    "source_db = client[SOURCE_DB]\n",
    "source_collection = source_db[SOURCE_COLLECTION]\n",
    "target_db = client[TARGET_DB]\n",
    "target_collection = target_db[TARGET_COLLECTION]"
   ]
  },
  {
   "cell_type": "code",
   "execution_count": 4,
   "metadata": {},
   "outputs": [],
   "source": [
    "# Load pre-trained embedding model (e.g., Sentence-Transformers)\n",
    "embedding_model = SentenceTransformer(\"all-MiniLM-L6-v2\")"
   ]
  },
  {
   "cell_type": "code",
   "execution_count": 5,
   "metadata": {},
   "outputs": [],
   "source": [
    "def generate_embeddings(text):\n",
    "    \"\"\"Generate vector embeddings for the given text using the model.\"\"\"\n",
    "    if text:\n",
    "        return embedding_model.encode(text).tolist()\n",
    "    return None"
   ]
  },
  {
   "cell_type": "code",
   "execution_count": 6,
   "metadata": {},
   "outputs": [
    {
     "name": "stdout",
     "output_type": "stream",
     "text": [
      "Processed and inserted 500 records of 21349.\n",
      "Processed and inserted 1000 records of 21349.\n",
      "Processed and inserted 1500 records of 21349.\n",
      "Processed and inserted 2000 records of 21349.\n",
      "Processed and inserted 2500 records of 21349.\n",
      "Processed and inserted 3000 records of 21349.\n",
      "Processed and inserted 3500 records of 21349.\n",
      "Processed and inserted 4000 records of 21349.\n",
      "Processed and inserted 4500 records of 21349.\n",
      "Processed and inserted 5000 records of 21349.\n",
      "Processed and inserted 5500 records of 21349.\n",
      "Processed and inserted 6000 records of 21349.\n",
      "Processed and inserted 6500 records of 21349.\n",
      "Processed and inserted 7000 records of 21349.\n",
      "Processed and inserted 7500 records of 21349.\n",
      "Processed and inserted 8000 records of 21349.\n",
      "Processed and inserted 8500 records of 21349.\n",
      "Processed and inserted 9000 records of 21349.\n",
      "Processed and inserted 9500 records of 21349.\n",
      "Processed and inserted 10000 records of 21349.\n",
      "Processed and inserted 10500 records of 21349.\n",
      "Processed and inserted 11000 records of 21349.\n",
      "Processed and inserted 11500 records of 21349.\n",
      "Processed and inserted 12000 records of 21349.\n",
      "Processed and inserted 12500 records of 21349.\n",
      "Processed and inserted 13000 records of 21349.\n",
      "Processed and inserted 13500 records of 21349.\n",
      "Processed and inserted 14000 records of 21349.\n",
      "Processed and inserted 14500 records of 21349.\n",
      "Processed and inserted 15000 records of 21349.\n",
      "Processed and inserted 15500 records of 21349.\n",
      "Processed and inserted 16000 records of 21349.\n",
      "Processed and inserted 16500 records of 21349.\n",
      "Processed and inserted 17000 records of 21349.\n",
      "Processed and inserted 17500 records of 21349.\n",
      "Processed and inserted 18000 records of 21349.\n",
      "Processed and inserted 18500 records of 21349.\n",
      "Processed and inserted 19000 records of 21349.\n",
      "Processed and inserted 19500 records of 21349.\n",
      "Processed and inserted 20000 records of 21349.\n",
      "Processed and inserted 20500 records of 21349.\n",
      "Processed and inserted 21000 records of 21349.\n",
      "Processed and inserted 21349 records of 21349.\n",
      "All batches processed and inserted into the new collection.\n"
     ]
    }
   ],
   "source": [
    "# Step 2: Define batch size and process documents in batches\n",
    "batch_size = 500\n",
    "processed_count = 0\n",
    "\n",
    "total_records = source_collection.count_documents({})  # Total number of records in the source collection\n",
    "\n",
    "# Step 3: Process documents in batches\n",
    "for i in range(0, total_records, batch_size):\n",
    "    # Step 3: Fetch the next batch of documents\n",
    "    batch = list(source_collection.find().skip(i).limit(batch_size))\n",
    "    \n",
    "    if not batch:  # Stop the loop if no more documents are available\n",
    "        break\n",
    "    \n",
    "    processed_batch = []\n",
    "    \n",
    "    for movie in batch:\n",
    "        # Generate embeddings for the plot\n",
    "        plot = movie.get(\"plot\", \"\")\n",
    "        plot_embedding = generate_embeddings(plot)\n",
    "\n",
    "        # Prepare the new document\n",
    "        processed_document = {\n",
    "            \"_id\": movie[\"_id\"],  # Keep the same _id\n",
    "            \"title\": movie.get(\"title\", \"\"),\n",
    "            \"plot\": plot,\n",
    "            \"plot_embedding\": plot_embedding,\n",
    "            \"genres\": movie.get(\"genres\", []),\n",
    "            \"cast\": movie.get(\"cast\", []),\n",
    "            \"directors\": movie.get(\"directors\", []),\n",
    "            \"year\": movie.get(\"year\", None),\n",
    "        }\n",
    "        \n",
    "        processed_batch.append(processed_document)\n",
    "    \n",
    "        # Insert the processed batch into the target collection\n",
    "    try:\n",
    "        target_collection.insert_many(processed_batch)\n",
    "        processed_count += len(processed_batch)\n",
    "        print(f\"Processed and inserted {processed_count} records of {total_records}.\")\n",
    "    except Exception as e:\n",
    "        print(f\"An error occurred: {e}\")\n",
    "\n",
    "print(\"All batches processed and inserted into the new collection.\")\n"
   ]
  },
  {
   "cell_type": "code",
   "execution_count": null,
   "metadata": {},
   "outputs": [],
   "source": [
    "# Iterate through movies, generate embeddings, and insert into the new collection\n",
    "batch_size = 500  # Batch processing size\n",
    "processed_count = 0\n",
    "\n",
    "for movie in source_collection.find():\n",
    "    # Generate embeddings for the plot\n",
    "    plot = movie.get(\"plot\", \"\")\n",
    "    plot_embedding = generate_embeddings(plot)\n",
    "\n",
    "    # Prepare the new document\n",
    "    new_document = {\n",
    "        \"_id\": movie[\"_id\"],  # Keep the same _id\n",
    "        \"title\": movie.get(\"title\", \"\"),\n",
    "        \"plot\": plot,\n",
    "        \"plot_embedding\": plot_embedding,\n",
    "        \"genres\": movie.get(\"genres\", []),\n",
    "        \"cast\": movie.get(\"cast\", []),\n",
    "        \"directors\": movie.get(\"directors\", []),\n",
    "        \"year\": movie.get(\"year\", None),\n",
    "    }\n",
    "\n",
    "    # Insert into the target collection\n",
    "    target_collection.insert_one(new_document)\n",
    "    processed_count += 1\n",
    "    \n",
    "    \n",
    "\n",
    "    # Print progress\n",
    "    if processed_count % batch_size == 0:\n",
    "        print(f\"Processed {processed_count} movies...\")\n",
    "\n",
    "print(f\"Completed processing {processed_count} movies.\")\n"
   ]
  }
 ],
 "metadata": {
  "kernelspec": {
   "display_name": "venv",
   "language": "python",
   "name": "python3"
  },
  "language_info": {
   "codemirror_mode": {
    "name": "ipython",
    "version": 3
   },
   "file_extension": ".py",
   "mimetype": "text/x-python",
   "name": "python",
   "nbconvert_exporter": "python",
   "pygments_lexer": "ipython3",
   "version": "3.11.10"
  }
 },
 "nbformat": 4,
 "nbformat_minor": 2
}
