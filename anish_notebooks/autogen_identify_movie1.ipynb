{
 "cells": [
  {
   "cell_type": "code",
   "execution_count": 1,
   "metadata": {},
   "outputs": [
    {
     "name": "stderr",
     "output_type": "stream",
     "text": [
      "flaml.automl is not available. Please install flaml[automl] to enable AutoML functionalities.\n"
     ]
    }
   ],
   "source": [
    "from pymongo import MongoClient\n",
    "from sentence_transformers import SentenceTransformer\n",
    "from autogen import AssistantAgent\n",
    "import os"
   ]
  },
  {
   "cell_type": "code",
   "execution_count": 2,
   "metadata": {},
   "outputs": [],
   "source": [
    "# MongoDB connection details\n",
    "MONGO_URI = os.environ[\"MONGODB_URI\"]  # Replace with your MongoDB URI\n",
    "DB_NAME = \"vector_mflix1\"\n",
    "COLLECTION_NAME = \"movies_with_vectors\""
   ]
  },
  {
   "cell_type": "code",
   "execution_count": 3,
   "metadata": {},
   "outputs": [],
   "source": [
    "# Initialize MongoDB client\n",
    "client = MongoClient(MONGO_URI)\n",
    "db = client[DB_NAME]\n",
    "collection = db[COLLECTION_NAME]"
   ]
  },
  {
   "cell_type": "code",
   "execution_count": 4,
   "metadata": {},
   "outputs": [],
   "source": [
    "# Load pre-trained embedding model\n",
    "embedding_model = SentenceTransformer(\"all-MiniLM-L6-v2\")"
   ]
  },
  {
   "cell_type": "code",
   "execution_count": 5,
   "metadata": {},
   "outputs": [],
   "source": [
    "def embed_plot(plot_text):\n",
    "    \"\"\"Generate vector embedding for the input plot.\"\"\"\n",
    "    return embedding_model.encode(plot_text).tolist()"
   ]
  },
  {
   "cell_type": "code",
   "execution_count": 10,
   "metadata": {},
   "outputs": [],
   "source": [
    "def find_closest_movie(plot_embedding, top_k=5):\n",
    "    \"\"\"Find the movie with the closest embedding.\"\"\"\n",
    "    pipeline = [\n",
    "        {\n",
    "            \"$addFields\": {\n",
    "                \"embedding_distance\": {\n",
    "                    \"$let\": {\n",
    "                        \"vars\": {\"plot_emb\": \"$plot_embedding\"},\n",
    "                        \"in\": {\n",
    "                            \"$sqrt\": {\n",
    "                                \"$sum\": [\n",
    "                                    {\"$pow\": [{\"$subtract\": [e, {\"$arrayElemAt\": [\"$$plot_emb\", i]}]}, 2]}\n",
    "                                    for i, e in enumerate(plot_embedding)\n",
    "                                ]\n",
    "                            }\n",
    "                        },\n",
    "                    }\n",
    "                }\n",
    "            }\n",
    "        },\n",
    "        {\"$sort\": {\"embedding_distance\": 1}},\n",
    "        {\"$limit\": top_k}\n",
    "    ]\n",
    "    return list(collection.aggregate(pipeline))"
   ]
  },
  {
   "cell_type": "code",
   "execution_count": 24,
   "metadata": {},
   "outputs": [],
   "source": [
    "# Create the AutoGen Assistant Agent\n",
    "class MovieFinderAssistant(AssistantAgent):\n",
    "    def find_movie(self, user_input):\n",
    "        \"\"\"Process user input and find the closest movie.\"\"\"\n",
    "        try:\n",
    "            # Step 1: Embed the input plot\n",
    "            plot_embedding = embed_plot(user_input)\n",
    "            \n",
    "            # Step 2: Query the database for the closest movie\n",
    "            result = find_closest_movie(plot_embedding, top_k=5)\n",
    "            response = ''\n",
    "            \n",
    "            # Step 3: Format and return the response\n",
    "            if result:\n",
    "                for i, movie in enumerate(result):\n",
    "                    response += f\"{i}. Closest movie: {movie['title']} ({movie['year']})\\nGenres: {', '.join(movie['genres'])}\\nPlot: {movie['plot']}\"\n",
    "            else:\n",
    "                response = \"No matching movie found.\"\n",
    "        except Exception as e:\n",
    "            response = f\"An error occurred: {e}\"\n",
    "        \n",
    "        return response"
   ]
  },
  {
   "cell_type": "code",
   "execution_count": 25,
   "metadata": {},
   "outputs": [],
   "source": [
    "# Instantiate the assistant agent\n",
    "assistant = MovieFinderAssistant(name=\"Movie Finder\", description=\"Finds movies based on plot descriptions.\")"
   ]
  },
  {
   "cell_type": "code",
   "execution_count": 26,
   "metadata": {},
   "outputs": [
    {
     "name": "stdout",
     "output_type": "stream",
     "text": [
      "0. Closest movie: L'opèra de quat'sous (1931)\n",
      "Genres: Comedy, Crime, Musical\n",
      "Plot: 1. Closest movie: The Song of Night (1932)\n",
      "Genres: Comedy, Musical\n",
      "Plot: 2. Closest movie: The World Moves On (1934)\n",
      "Genres: Drama, History, Romance\n",
      "Plot: 3. Closest movie: David Golder (1931)\n",
      "Genres: Drama\n",
      "Plot: 4. Closest movie: The Red Head (1932)\n",
      "Genres: Drama\n",
      "Plot: \n",
      "Goodbye!\n"
     ]
    }
   ],
   "source": [
    "# User interaction loop\n",
    "while True:\n",
    "    user_input = input(\"Enter a plot description (or 'exit' to quit): \")\n",
    "    if user_input.lower() == \"exit\":\n",
    "        print(\"Goodbye!\")\n",
    "        break\n",
    "    print(assistant.find_movie(user_input))"
   ]
  },
  {
   "cell_type": "code",
   "execution_count": null,
   "metadata": {},
   "outputs": [],
   "source": []
  }
 ],
 "metadata": {
  "kernelspec": {
   "display_name": "venv",
   "language": "python",
   "name": "python3"
  },
  "language_info": {
   "codemirror_mode": {
    "name": "ipython",
    "version": 3
   },
   "file_extension": ".py",
   "mimetype": "text/x-python",
   "name": "python",
   "nbconvert_exporter": "python",
   "pygments_lexer": "ipython3",
   "version": "3.11.10"
  }
 },
 "nbformat": 4,
 "nbformat_minor": 2
}
